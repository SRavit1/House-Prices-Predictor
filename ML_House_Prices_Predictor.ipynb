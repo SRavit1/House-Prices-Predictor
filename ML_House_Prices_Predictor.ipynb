{
  "nbformat": 4,
  "nbformat_minor": 0,
  "metadata": {
    "colab": {
      "name": "ML House Prices Predictor.ipynb",
      "version": "0.3.2",
      "provenance": [],
      "collapsed_sections": []
    },
    "kernelspec": {
      "name": "python3",
      "display_name": "Python 3"
    }
  },
  "cells": [
    {
      "metadata": {
        "id": "MJ3_0uPSMM-C",
        "colab_type": "code",
        "colab": {}
      },
      "cell_type": "code",
      "source": [
        "from keras.models import Sequential\n",
        "from keras.layers import Dense, Dropout\n",
        "from keras import optimizers\n",
        "  \n",
        "import numpy as np\n",
        "import pandas\n",
        "\n",
        "import random"
      ],
      "execution_count": 0,
      "outputs": []
    },
    {
      "metadata": {
        "id": "x2WtKxYRMTY3",
        "colab_type": "code",
        "colab": {}
      },
      "cell_type": "code",
      "source": [
        "training_csv = pandas.read_csv('sample_data/california_housing_train.csv')\n",
        "test_csv = pandas.read_csv('sample_data/california_housing_test.csv')"
      ],
      "execution_count": 0,
      "outputs": []
    },
    {
      "metadata": {
        "id": "oEStXugPNfrA",
        "colab_type": "code",
        "colab": {}
      },
      "cell_type": "code",
      "source": [
        "training_x = np.zeros((len(training_csv), 8))\n",
        "training_y = np.zeros((len(training_csv), 1))\n",
        "\n",
        "test_x = np.zeros((len(training_csv), 8))\n",
        "test_y = np.zeros((len(training_csv), 1))\n",
        "\n",
        "for i in range (len(training_csv)):\n",
        "  training_x[i] = training_csv.loc[i][0:8]\n",
        "  training_y[i] = training_csv.loc[i][8:]\n",
        "for i in range (len(test_csv)):\n",
        "  test_x[i] = training_csv.loc[i][0:8]\n",
        "  test_y[i] = training_csv.loc[i][8:]"
      ],
      "execution_count": 0,
      "outputs": []
    },
    {
      "metadata": {
        "id": "eivemqLmVsro",
        "colab_type": "code",
        "colab": {}
      },
      "cell_type": "code",
      "source": [
        "#Normalizing data\n",
        "for i in range (len(training_csv)):\n",
        "  training_x[i][0] /= 1e3 #longitude\n",
        "  training_x[i][1] /= 1e2 #latitude\n",
        "  training_x[i][2] /= 1e2 #housing_median_age\n",
        "  training_x[i][3] /= 1e4 #total_rooms\n",
        "  training_x[i][4] /= 1e3 #total_bedrooms\n",
        "  training_x[i][5] /= 1e5 #population\n",
        "  training_x[i][6] /= 1e3 #households\n",
        "  training_x[i][7] /= 1e1 #median_income\n",
        "  training_y[i][0] /= 1e6 #median_house_value\n",
        "for i in range (len(test_csv)):\n",
        "  test_x[i][0] /= 1e3\n",
        "  test_x[i][1] /= 1e2\n",
        "  test_x[i][2] /= 1e2\n",
        "  test_x[i][3] /= 1e4\n",
        "  test_x[i][4] /= 1e3\n",
        "  test_x[i][5] /= 1e5\n",
        "  test_x[i][6] /= 1e3\n",
        "  test_x[i][7] /= 1e1\n",
        "  test_y[i][0] /= 1e6"
      ],
      "execution_count": 0,
      "outputs": []
    },
    {
      "metadata": {
        "id": "_86UeTJtRQ_1",
        "colab_type": "code",
        "colab": {
          "base_uri": "https://localhost:8080/",
          "height": 88
        },
        "outputId": "e247bcec-3fd2-4bd7-f08c-2a2b4772ed67"
      },
      "cell_type": "code",
      "source": [
        "model = Sequential()\n",
        "model.add(Dense(8, input_shape=(8,)))\n",
        "model.add(Dense(4))\n",
        "model.add(Dense(1))"
      ],
      "execution_count": 5,
      "outputs": [
        {
          "output_type": "stream",
          "text": [
            "WARNING:tensorflow:From /usr/local/lib/python3.6/dist-packages/tensorflow/python/framework/op_def_library.py:263: colocate_with (from tensorflow.python.framework.ops) is deprecated and will be removed in a future version.\n",
            "Instructions for updating:\n",
            "Colocations handled automatically by placer.\n"
          ],
          "name": "stdout"
        }
      ]
    },
    {
      "metadata": {
        "id": "fqCnZMleR-ex",
        "colab_type": "code",
        "outputId": "bdc91140-e527-4269-ebe5-a55b565e4c35",
        "colab": {
          "base_uri": "https://localhost:8080/",
          "height": 357
        }
      },
      "cell_type": "code",
      "source": [
        "weights=None\n",
        "adam_optimizer = optimizers.Adam(lr=1e-1, beta_1=0.9, beta_2=0.999, epsilon=None, decay=0.0, amsgrad=False)\n",
        "model.compile(loss='mean_squared_error', optimizer=adam_optimizer)\n",
        "if weights is not None:\n",
        "  model.set_weights(weights)\n",
        "model.fit(x=training_x, y=training_y, batch_size=2048, epochs=10)\n",
        "weights=model.get_weights()"
      ],
      "execution_count": 10,
      "outputs": [
        {
          "output_type": "stream",
          "text": [
            "Epoch 1/10\n",
            "17000/17000 [==============================] - 1s 59us/step - loss: 0.0250\n",
            "Epoch 2/10\n",
            "17000/17000 [==============================] - 0s 1us/step - loss: 0.0091\n",
            "Epoch 3/10\n",
            "17000/17000 [==============================] - 0s 1us/step - loss: 0.0074\n",
            "Epoch 4/10\n",
            "17000/17000 [==============================] - 0s 1us/step - loss: 0.0067\n",
            "Epoch 5/10\n",
            "17000/17000 [==============================] - 0s 1us/step - loss: 0.0062\n",
            "Epoch 6/10\n",
            "17000/17000 [==============================] - 0s 1us/step - loss: 0.0060\n",
            "Epoch 7/10\n",
            "17000/17000 [==============================] - 0s 2us/step - loss: 0.0058\n",
            "Epoch 8/10\n",
            "17000/17000 [==============================] - 0s 2us/step - loss: 0.0058\n",
            "Epoch 9/10\n",
            "17000/17000 [==============================] - 0s 1us/step - loss: 0.0058\n",
            "Epoch 10/10\n",
            "17000/17000 [==============================] - 0s 2us/step - loss: 0.0058\n"
          ],
          "name": "stdout"
        }
      ]
    },
    {
      "metadata": {
        "id": "C1oTcZTtYGy_",
        "colab_type": "code",
        "outputId": "c92acd4e-b052-487b-95be-95257a0f58e1",
        "colab": {
          "base_uri": "https://localhost:8080/",
          "height": 68
        }
      },
      "cell_type": "code",
      "source": [
        "value =  random.randint(1, (len(test_csv))+1)\n",
        "\n",
        "predicted = model.predict(test_x[value].reshape((1,8))) * 1e6\n",
        "actual = test_y[value] * 1e6\n",
        "\n",
        "print(\"Predicted value: \", end = \" \")\n",
        "print (predicted)\n",
        "print(\"Actual value: \", end = \" \")\n",
        "print (actual)\n",
        "\n",
        "print(\"Percent error: \" , end = \" \")\n",
        "print (abs(((predicted-actual)/actual)) * 100, end = \"\")\n",
        "print(\"%\")"
      ],
      "execution_count": 47,
      "outputs": [
        {
          "output_type": "stream",
          "text": [
            "Predicted value:  [[174197.22]]\n",
            "Actual value:  [173900.]\n",
            "Percent error:  [[0.1709136]]%\n"
          ],
          "name": "stdout"
        }
      ]
    }
  ]
}